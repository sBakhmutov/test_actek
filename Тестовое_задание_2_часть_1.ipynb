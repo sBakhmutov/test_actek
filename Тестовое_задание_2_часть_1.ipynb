{
 "cells": [
  {
   "cell_type": "markdown",
   "id": "0c7b569b",
   "metadata": {},
   "source": [
    "Вы должны разработать скрипт на Python для парсинга таблиц с веб-сайтов.\n",
    "Требования:\n",
    "1. Скрипт должен принимать входной URL веб-страницы с таблицей.\n",
    "2. Скрипт может использовать библиотеку requests для получения HTML-кода страницы.\n",
    "3. Скрипт может использовать библиотеку BeautifulSoup для парсинга HTML и извлечения таблицы.\n",
    "Допускается использование selenium.\n",
    "4. Данные из таблицы должны быть извлечены и сохранены в формате Excel с использованием библиотек openpyxl или pandas.\n",
    "5. Второй сайт является необязательным заданием, но будет плюсом. Если необходимо загрузить что-то с сайта, то это не обязательно оформлять в формате кода, но описать, как это можно сделать.\n",
    "Допускается использование библиотек на ваше усмотрение. \n",
    "\n",
    "Первый сайт:\n",
    "https://www.nordpoolgroup.com/en/Market-data1/Dayahead/Area-Prices/de-lu/daily/?view=table\n",
    "\n",
    "https://data.nordpoolgroup.com/auction/day-ahead/prices?deliveryDate=2024-02-16&deliveryAreas=AT&currency=EUR&aggregation=Hourly\n"
   ]
  },
  {
   "cell_type": "code",
   "execution_count": 1,
   "id": "ca68fb80",
   "metadata": {},
   "outputs": [
    {
     "name": "stdout",
     "output_type": "stream",
     "text": [
      "   Delivery period (EET)  AT (EUR) Delivery Start Delivery End\n",
      "0          23:00 - 00:00     51.76          23:00        00:00\n",
      "1          00:00 - 01:00     51.08          00:00        01:00\n",
      "2          01:00 - 02:00     49.92          01:00        02:00\n",
      "3          02:00 - 03:00     48.59          02:00        03:00\n",
      "4          03:00 - 04:00     50.18          03:00        04:00\n",
      "5          04:00 - 05:00     52.53          04:00        05:00\n",
      "6          05:00 - 06:00     70.10          05:00        06:00\n",
      "7          06:00 - 07:00     74.63          06:00        07:00\n",
      "8          07:00 - 08:00     70.50          07:00        08:00\n",
      "9          08:00 - 09:00     64.84          08:00        09:00\n",
      "10         09:00 - 10:00     54.37          09:00        10:00\n",
      "11         10:00 - 11:00     53.00          10:00        11:00\n",
      "12         11:00 - 12:00     52.33          11:00        12:00\n",
      "13         12:00 - 13:00     52.31          12:00        13:00\n",
      "14         13:00 - 14:00     53.78          13:00        14:00\n",
      "15         14:00 - 15:00     62.73          14:00        15:00\n",
      "16         15:00 - 16:00     70.17          15:00        16:00\n",
      "17         16:00 - 17:00     77.24          16:00        17:00\n",
      "18         17:00 - 18:00     78.02          17:00        18:00\n",
      "19         18:00 - 19:00     77.17          18:00        19:00\n",
      "20         19:00 - 20:00     72.92          19:00        20:00\n",
      "21         20:00 - 21:00     69.82          20:00        21:00\n",
      "22         21:00 - 22:00     68.40          21:00        22:00\n",
      "23         22:00 - 23:00     60.89          22:00        23:00\n"
     ]
    }
   ],
   "source": [
    "import re\n",
    "import requests\n",
    "import json\n",
    "import datetime\n",
    "import pandas as pd\n",
    "\n",
    "\n",
    "def get_a_data(url):\n",
    "    date_areas_currency = re.search(r'.*deliveryDate=(.*)&deliveryAreas=(.*)&currency=(.*)&', url)\n",
    "    delivery_date = date_areas_currency.group(1)\n",
    "    delivery_area = date_areas_currency.group(2)\n",
    "    currency = date_areas_currency.group(3)\n",
    "    url_api = f'https://dataportal-api.nordpoolgroup.com/api/DayAheadPrices?date={delivery_date}&market=DayAhead&deliveryArea={delivery_area}&currency={currency}'\n",
    "    data = requests.get(url_api).json()\n",
    "    df = pd.json_normalize(data[\"multiAreaEntries\"])\n",
    "    return df\n",
    "\n",
    "def format_time(date_str):\n",
    "    datetime_obj = datetime.datetime.strptime(date_str, \"%Y-%m-%dT%H:%M:%SZ\")\n",
    "    return datetime_obj.strftime(\"%H:%M\")\n",
    "\n",
    "\n",
    "base_url = 'https://data.nordpoolgroup.com/auction/day-ahead/prices?deliveryDate=2024-02-16&deliveryAreas=AT&currency=EUR&aggregation=Hourly'\n",
    "df = get_a_data(base_url)\n",
    "\n",
    "df['deliveryStart'] = df['deliveryStart'].apply(format_time)\n",
    "df['deliveryEnd'] = df['deliveryEnd'].apply(format_time)\n",
    "df['Delivery period (EET)'] = df['deliveryStart'].astype(str) + ' - ' + df['deliveryEnd'].astype(str)\n",
    "\n",
    "df = df.rename(columns = {'deliveryStart': 'Delivery Start', 'deliveryEnd': 'Delivery End', 'entryPerArea.AT': 'AT (EUR)'})\n",
    "df = df[['Delivery period (EET)', 'AT (EUR)', 'Delivery Start', 'Delivery End']]\n",
    "print(df)\n",
    "\n",
    "df.to_excel('output_1.xlsx', index=False, engine='openpyxl')"
   ]
  }
 ],
 "metadata": {
  "kernelspec": {
   "display_name": "Python 3 (ipykernel)",
   "language": "python",
   "name": "python3"
  },
  "language_info": {
   "codemirror_mode": {
    "name": "ipython",
    "version": 3
   },
   "file_extension": ".py",
   "mimetype": "text/x-python",
   "name": "python",
   "nbconvert_exporter": "python",
   "pygments_lexer": "ipython3",
   "version": "3.11.4"
  }
 },
 "nbformat": 4,
 "nbformat_minor": 5
}
