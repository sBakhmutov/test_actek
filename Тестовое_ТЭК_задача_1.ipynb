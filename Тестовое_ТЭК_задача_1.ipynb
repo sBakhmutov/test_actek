{
 "cells": [
  {
   "cell_type": "code",
   "execution_count": 1,
   "id": "4bf12793",
   "metadata": {},
   "outputs": [],
   "source": [
    "import os\n",
    "import glob\n",
    "import warnings\n",
    "import pandas as pd\n",
    "\n",
    "\n",
    "warnings.filterwarnings('ignore', category=FutureWarning)"
   ]
  },
  {
   "cell_type": "markdown",
   "id": "77fdcd1b",
   "metadata": {},
   "source": [
    "Задание 1, часть 1:"
   ]
  },
  {
   "cell_type": "code",
   "execution_count": 2,
   "id": "b01d4027",
   "metadata": {},
   "outputs": [],
   "source": [
    "def merge_xlsx_files_into_one(path_files, path_to_save):\n",
    "    file_list = glob.glob(path_files + \"/*.xlsx\")\n",
    "    excl_list = [pd.read_excel(file, engine='openpyxl', skiprows=1, usecols=range(1, 6), header=1, index_col=False) for file in file_list]\n",
    "    excl_merged = pd.concat(excl_list, ignore_index=True)\n",
    "    excl_merged.to_excel(path_to_save, index=False)\n",
    "\n",
    "\n",
    "path_to_save = r'C:\\Users\\Stepan\\ТЭК\\Task_1\\output_1.xlsx'\n",
    "path_xlsx = r'C:\\Users\\Stepan\\ТЭК\\data\\input'\n",
    "merge_xlsx_files_into_one(path_xlsx, path_to_save)\n"
   ]
  },
  {
   "cell_type": "markdown",
   "id": "e5ec5744",
   "metadata": {},
   "source": [
    "Задание 1, часть 2:"
   ]
  },
  {
   "cell_type": "code",
   "execution_count": 3,
   "id": "71a37c4f",
   "metadata": {},
   "outputs": [],
   "source": [
    "def merge_xlsx_files(path_files, path_to_save):\n",
    "    files_list = glob.glob(path_files + \"/*.xlsx\")\n",
    "    \n",
    "    with pd.ExcelWriter(path_to_save, engine='openpyxl') as writer:\n",
    "        for file in files_list:\n",
    "            sheet_name = os.path.splitext(os.path.basename(file))[0]\n",
    "            df = pd.read_excel(file)\n",
    "            df.to_excel(writer, sheet_name=sheet_name, index=False, header=None)\n",
    "            \n",
    "path_to_save = r'C:\\Users\\Stepan\\ТЭК\\Task_1\\output_2.xlsx'\n",
    "path_xlsx = r'C:\\Users\\Stepan\\ТЭК\\data\\input'\n",
    "merge_xlsx_files(path_xlsx, path_to_save)"
   ]
  }
 ],
 "metadata": {
  "kernelspec": {
   "display_name": "Python 3 (ipykernel)",
   "language": "python",
   "name": "python3"
  },
  "language_info": {
   "codemirror_mode": {
    "name": "ipython",
    "version": 3
   },
   "file_extension": ".py",
   "mimetype": "text/x-python",
   "name": "python",
   "nbconvert_exporter": "python",
   "pygments_lexer": "ipython3",
   "version": "3.11.4"
  }
 },
 "nbformat": 4,
 "nbformat_minor": 5
}
